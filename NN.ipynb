{
 "cells": [
  {
   "cell_type": "code",
   "execution_count": 7,
   "metadata": {
    "collapsed": true
   },
   "outputs": [],
   "source": [
    "from sklearn.neural_network import MLPClassifier\n",
    "from sklearn import datasets\n",
    "from sklearn.preprocessing import StandardScaler"
   ]
  },
  {
   "cell_type": "code",
   "execution_count": 15,
   "metadata": {},
   "outputs": [
    {
     "name": "stdout",
     "output_type": "stream",
     "text": [
      "Number of mislabeled points out of a total 150 points: 5\n"
     ]
    }
   ],
   "source": [
    "iris = datasets.load_iris()\n",
    "training_data = iris.data\n",
    "training_label = iris.target\n",
    "#preprocessing data\n",
    "scaler = StandardScaler()\n",
    "scaler.fit(training_data)\n",
    "training_data = scaler.transform(training_data)\n",
    "\n",
    "clf = MLPClassifier(solver='sgd',alpha=1e-5,hidden_layer_sizes=(15,),random_state=2,max_iter=10000)\n",
    "clf.fit(training_data,training_label)\n",
    "\n",
    "y_pred = clf.predict(training_data)\n",
    "print(\"Number of mislabeled points out of a total %d points: %d\" \\\n",
    "      % (iris.data.shape[0], (iris.target != y_pred).sum()))"
   ]
  },
  {
   "cell_type": "code",
   "execution_count": null,
   "metadata": {
    "collapsed": true
   },
   "outputs": [],
   "source": []
  }
 ],
 "metadata": {
  "kernelspec": {
   "display_name": "Python 2",
   "language": "python",
   "name": "python2"
  },
  "language_info": {
   "codemirror_mode": {
    "name": "ipython",
    "version": 2
   },
   "file_extension": ".py",
   "mimetype": "text/x-python",
   "name": "python",
   "nbconvert_exporter": "python",
   "pygments_lexer": "ipython2",
   "version": "2.7.6"
  }
 },
 "nbformat": 4,
 "nbformat_minor": 2
}
