{
 "cells": [
  {
   "cell_type": "code",
   "execution_count": 2,
   "metadata": {},
   "outputs": [],
   "source": [
    "import  numpy as np\n",
    "from sklearn.neighbors import KNeighborsClassifier\n",
    "from sklearn import datasets"
   ]
  },
  {
   "cell_type": "code",
   "execution_count": 9,
   "metadata": {},
   "outputs": [
    {
     "name": "stdout",
     "output_type": "stream",
     "text": [
      "Number of mislabeled points out of a total 150 points: 25\n"
     ]
    }
   ],
   "source": [
    "n_neighbors = 5 # must be odd\n",
    "iris = datasets.load_iris()\n",
    "training_data = iris.data[:,:2]    #consider 2D dimensions\n",
    "training_label = iris.target\n",
    "\n",
    "model = KNeighborsClassifier(n_neighbors)\n",
    "model.fit(training_data, training_label)\n",
    "test_label = model.predict(training_data)\n",
    "print(\"Number of mislabeled points out of a total %d points: %d\" \\\n",
    "      % (iris.data.shape[0], ( training_label!= test_label).sum()))"
   ]
  },
  {
   "cell_type": "code",
   "execution_count": null,
   "metadata": {
    "collapsed": true
   },
   "outputs": [],
   "source": [
    "'''\n",
    "y_pred = model.predict(test_data)\n",
    "print(\"Number of mislabeled points out of a total %d points: %d\" \\\n",
    "      % (iris.data.shape[0], ( test_label!= y_pred).sum()))\n",
    "'''"
   ]
  },
  {
   "cell_type": "code",
   "execution_count": null,
   "metadata": {
    "collapsed": true
   },
   "outputs": [],
   "source": []
  }
 ],
 "metadata": {
  "kernelspec": {
   "display_name": "Python 2",
   "language": "python",
   "name": "python2"
  },
  "language_info": {
   "codemirror_mode": {
    "name": "ipython",
    "version": 2
   },
   "file_extension": ".py",
   "mimetype": "text/x-python",
   "name": "python",
   "nbconvert_exporter": "python",
   "pygments_lexer": "ipython2",
   "version": "2.7.6"
  }
 },
 "nbformat": 4,
 "nbformat_minor": 2
}
